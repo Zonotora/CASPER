{
 "cells": [
  {
   "cell_type": "code",
   "execution_count": 37,
   "metadata": {},
   "outputs": [
    {
     "data": {
      "text/plain": [
       "'LOSANGELES'"
      ]
     },
     "execution_count": 37,
     "metadata": {},
     "output_type": "execute_result"
    }
   ],
   "source": [
    "import pandas as pd\n",
    "import ipinfo\n",
    "import numpy as np\n",
    "\n",
    "def get_location_ipinfo(ip_address):\n",
    "    #if ip_address.empty:\n",
    "    #    return \"\"\n",
    "    access_token = '7dbb53d0419093'\n",
    "    handler = ipinfo.getHandler(access_token)\n",
    "    details = handler.getDetails(ip_address)\n",
    "    city = details.city\n",
    "    format_city = city.replace(\" \", \"\").upper() \n",
    "    return format_city\n",
    "\n",
    "get_location_ipinfo(\"161.149.146.201\")"
   ]
  },
  {
   "cell_type": "code",
   "execution_count": 38,
   "metadata": {},
   "outputs": [
    {
     "name": "stderr",
     "output_type": "stream",
     "text": [
      "c:\\Users\\Admin\\Anaconda3\\lib\\site-packages\\IPython\\core\\interactiveshell.py:3296: DtypeWarning: Columns (0,1) have mixed types.Specify dtype option on import or set low_memory=False.\n",
      "  exec(code_obj, self.user_global_ns, self.user_ns)\n"
     ]
    },
    {
     "name": "stdout",
     "output_type": "stream",
     "text": [
      "N.O. UNIQUE PROBES IS: 2136\n"
     ]
    }
   ],
   "source": [
    "# name_mapping = {\n",
    "#     \"CA-Ontario-1\" : \"Ontario\", \n",
    "#     \"CA-Quebec-1\" : \"Quebec\",\n",
    "#     \"US-California-1\" : \"California\",\n",
    "#     \"US-Virginia-1\" : \"Virginia\", \n",
    "#     \"US-West Virginia-1\" : \"West-Virginia\",\n",
    "#     \"US-Iowa-1\" : \"Iowa\",\n",
    "#     \"US-Washington-1\" : \"Washington\",\n",
    "#     \"US-Arizona-1\" : \"Arizona\",\n",
    "#     \"Illinois\" : \"US-Illinois-1\",\n",
    "#     \"US-Texas-1\" : \"Texas\"\n",
    "# } \n",
    "\n",
    "\n",
    "name_mapping = {\n",
    "    \"Ontario\" : \"CA-Ontario-1\", \n",
    "    \"Quebec\" : \"CA-Quebec-1\",\n",
    "    \"California\" : \"US-California-1\",\n",
    "    \"Virginia\" : \"US-Virginia-1\", \n",
    "    \"West-Virginia\" : \"US-West Virginia-1\",\n",
    "    \"Iowa\" : \"US-Iowa-1\",\n",
    "    \"Washington\" : \"US-Washington-1\",\n",
    "    \"Arizona\" : \"US-Arizona-1\",\n",
    "    \"US-Illinois-1\" : \"Illinois\",\n",
    "    \"Texas\" : \"US-Texas-1\"\n",
    "} \n",
    "\n",
    "name_set = {\n",
    "    \"CA-Ontario-1\",\n",
    "    \"CA-Quebec-1\",\n",
    "    \"US-California-1\",\n",
    "    \"US-Virginia-1\",\n",
    "    \"US-West Virginia-1\",\n",
    "    \"US-Iowa-1\",\n",
    "    \"US-Washington-1\",\n",
    "    \"US-Arizona-1\",\n",
    "    \"Illinois\",\n",
    "    \"US-Texas-1\"}\n",
    "\n",
    "\n",
    "\n",
    "\n",
    "df = pd.read_csv(r\"C:\\Users\\Admin\\Documents\\GitHub\\umass\\api\\akamai\\ECORGeoLoad_1375315200_data.dat\"\n",
    ",usecols= [\"#query_time\", \"ecor\", \"georegion\", \"service\", \"contenttype\", \"sum_hits\", \"sum_connections\", \"sum_bytes\", \"sum_flit\"])\n",
    "df = df.drop(0)\n",
    "\n",
    "dfs = [df[df[\"georegion\"].isin(name_set)] for region in name_set]\n",
    "\n",
    "distinct_no_probes = df['ecor'].nunique()\n",
    "print(\"N.O. UNIQUE PROBES IS: \" + str(distinct_no_probes))\n",
    "\n",
    "\n",
    "\n",
    "#distinct_no_probes_after_drop = dfs['ecor'].nunique()\n",
    "#print(distinct_no_probes2)\n",
    "\n",
    "#pd.read_table(r\"C:\\Users\\Admin\\Documents\\GitHub\\umass\\api\\akamai\\ECORGeoLoad_1375315200_data.dat\", usecols= \n",
    "   # [\"query_time\", \"ecor\", \"georegion\", \"service\", \"contenttype\", \"sum_hits\", \"sum_connections\", \"sum_bytes\", \"sum_flit\"])"
   ]
  },
  {
   "cell_type": "code",
   "execution_count": 39,
   "metadata": {},
   "outputs": [
    {
     "name": "stdout",
     "output_type": "stream",
     "text": [
      "Index(['Alabama', 'Arkansas', 'Arizona', 'California', 'Colorado',\n",
      "       'Connecticut', 'District of Columbia', 'Delaware', 'Florida', 'Georgia',\n",
      "       'Hawaii', 'Iowa', 'Idaho', 'Illinois', 'Indiana', 'Kansas', 'Kentucky',\n",
      "       'Louisiana', 'Massachusetts', 'Maryland', 'Maine', 'Michigan',\n",
      "       'Minnesota', 'Missouri', 'Mississippi', 'Montana', 'North Carolina',\n",
      "       'North Dakota', 'Nebraska', 'New Hampshire', 'New Jersey', 'New Mexico',\n",
      "       'Nevada', 'New York', 'Ohio', 'Oklahoma', 'Oregon', 'Pennsylvania',\n",
      "       'Rhode Island', 'South Carolina', 'South Dakota', 'Tennessee', 'Texas',\n",
      "       'Utah', 'Virginia', 'Vermont', 'Washington', 'Wisconsin',\n",
      "       'West Virginia', 'Wyoming'],\n",
      "      dtype='object')\n"
     ]
    }
   ],
   "source": [
    "\n",
    "# Matrix should be of format \n",
    "#_____________________________________________\n",
    "#|  States   | Arizona | ....   | Washington  | \n",
    "#| _____________________________|_____________|\n",
    "#| Arizona   | 5.3     | ....   |   4.7       |\n",
    "#| ....      | 4.4     | ....   |   2.2       |\n",
    "#| Washington| 1.3     | ....   |   1.8       |\n",
    "#|______________________________|_____________|\n",
    "\n",
    "\n",
    "#CHECK FOR TRANSIVITE CLOSURE \n",
    "\n",
    "#USE DIJKSTRAS TO FIND THE MINIMAL TRANSITIVE LATENCY FOR EVERY CELL\n",
    "states = [\n",
    "    'Alabama',\n",
    "    'Arkansas',\n",
    "    'Arizona',\n",
    "    'California',\n",
    "    'Colorado',\n",
    "    'Connecticut',\n",
    "    'District of Columbia',\n",
    "    'Delaware',\n",
    "    'Florida',\n",
    "    'Georgia',\n",
    "    'Hawaii',\n",
    "    'Iowa',\n",
    "    'Idaho',\n",
    "    'Illinois',\n",
    "    'Indiana',\n",
    "    'Kansas',\n",
    "    'Kentucky',\n",
    "    'Louisiana',\n",
    "    'Massachusetts',\n",
    "    'Maryland',\n",
    "    'Maine',\n",
    "    'Michigan',\n",
    "    'Minnesota',\n",
    "    'Missouri',\n",
    "    'Mississippi',\n",
    "    'Montana',\n",
    "    'North Carolina',\n",
    "    'North Dakota',\n",
    "    'Nebraska',\n",
    "    'New Hampshire',\n",
    "    'New Jersey',\n",
    "    'New Mexico',\n",
    "    'Nevada',\n",
    "    'New York',\n",
    "    'Ohio',\n",
    "    'Oklahoma',\n",
    "    'Oregon',\n",
    "    'Pennsylvania',\n",
    "    'Rhode Island',\n",
    "    'South Carolina',\n",
    "    'South Dakota',\n",
    "    'Tennessee',\n",
    "    'Texas',\n",
    "    'Utah',\n",
    "    'Virginia',\n",
    "    'Vermont',\n",
    "    'Washington',\n",
    "    'Wisconsin',\n",
    "    'West Virginia',\n",
    "    'Wyoming' \n",
    "]\n",
    "def ecor_to_ip(df_akamai=None, df_edgelat=None):\n",
    "    return pd.DataFrame(columns = states, index=states)\n",
    "\n",
    "print(ecor_to_ip().index)"
   ]
  },
  {
   "cell_type": "code",
   "execution_count": 40,
   "metadata": {},
   "outputs": [],
   "source": [
    "edge_latencies = pd.read_csv(r\"C:\\Users\\Admin\\Documents\\GitHub\\umass\\api\\latencies\\edge_processed2.csv\")\n"
   ]
  },
  {
   "cell_type": "code",
   "execution_count": 41,
   "metadata": {},
   "outputs": [
    {
     "name": "stdout",
     "output_type": "stream",
     "text": [
      "[-74.4605, 40.8205]\n"
     ]
    }
   ],
   "source": [
    "import requests\n",
    "import json\n",
    "#response = requests.get(\"https://atlas.ripe.net/api/v2/probes/?format=json%22\")\n",
    "#response = requests.get(\"https://atlas.ripe.net/api/v2/probes/{1004557}/\")\n",
    "response = requests.get(\"https://atlas.ripe.net/api/v2/probes/1004557/?format=json\")\n",
    "resp_json = json.loads(response.content.decode(\"utf-8\"))\n",
    "print(resp_json[\"geometry\"][\"coordinates\"])\n",
    "\n",
    "\n"
   ]
  },
  {
   "cell_type": "code",
   "execution_count": 44,
   "metadata": {},
   "outputs": [],
   "source": [
    "from geopy.geocoders import Nominatim\n",
    "geolocator = Nominatim(user_agent=\"geoapiExercises\")\n",
    "# coor = [\"-74.4605\", \"40.8205\"]\n",
    "# Latitude = coor[1]\n",
    "# Longitude = coor[0]\n",
    " \n",
    "df_edges = pd.read_csv(r\"C:\\Users\\Admin\\Documents\\GitHub\\umass\\api\\latencies\\edge_processed3.csv\", index_col= False)\n",
    "df_edges[\"prb_loc\"] = \"\"\n",
    "for index, row in df_edges.iterrows():\n",
    "    prb_number = row[\"prb\"]\n",
    "    response = requests.get(f\"https://atlas.ripe.net/api/v2/probes/{prb_number}/?format=json\")\n",
    "    resp_json = json.loads(response.content.decode(\"utf-8\"))\n",
    "    long, lat = tuple(resp_json[\"geometry\"][\"coordinates\"])\n",
    "    \n",
    "    location = geolocator.reverse( str(lat) + \",\" + str(long) )\n",
    "    state = str((location)).split(\",\")[-3]\n",
    "    df_edges.loc[index, \"prb_loc\"] = state\n",
    "\n",
    "df_edges.to_csv(r\"C:\\Users\\Admin\\Documents\\GitHub\\umass\\api\\latencies\\edge_processed_testing2.csv\", index = False)\n",
    "#print(str(location).split(\",\")[-3])\n",
    "#print(location.state)"
   ]
  }
 ],
 "metadata": {
  "kernelspec": {
   "display_name": "Python 3.7.3 ('base')",
   "language": "python",
   "name": "python3"
  },
  "language_info": {
   "codemirror_mode": {
    "name": "ipython",
    "version": 3
   },
   "file_extension": ".py",
   "mimetype": "text/x-python",
   "name": "python",
   "nbconvert_exporter": "python",
   "pygments_lexer": "ipython3",
   "version": "3.7.3"
  },
  "orig_nbformat": 4,
  "vscode": {
   "interpreter": {
    "hash": "fe6f22945cfc871c9399bf7d9f19a00d7d184a1ba9bcdcec8f1d4899546bde82"
   }
  }
 },
 "nbformat": 4,
 "nbformat_minor": 2
}
