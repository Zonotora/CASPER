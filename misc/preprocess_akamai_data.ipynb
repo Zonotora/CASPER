{
 "cells": [
  {
   "cell_type": "code",
   "execution_count": null,
   "metadata": {},
   "outputs": [
    {
     "name": "stderr",
     "output_type": "stream",
     "text": [
      "c:\\Users\\Admin\\Anaconda3\\lib\\site-packages\\pandas\\compat\\_optional.py:138: UserWarning: Pandas requires version '2.7.0' or newer of 'numexpr' (version '2.6.9' currently installed).\n",
      "  warnings.warn(msg, UserWarning)\n"
     ]
    },
    {
     "data": {
      "text/plain": [
       "'LOSANGELES'"
      ]
     },
     "execution_count": 1,
     "metadata": {},
     "output_type": "execute_result"
    }
   ],
   "source": [
    "import pandas as pd\n",
    "import ipinfo\n",
    "import numpy as np\n",
    "\n",
    "def get_location_ipinfo(ip_address):\n",
    "    #if ip_address.empty:\n",
    "    #    return \"\"\n",
    "    access_token = '7dbb53d0419093'\n",
    "    handler = ipinfo.getHandler(access_token)\n",
    "    details = handler.getDetails(ip_address)\n",
    "    city = details.city\n",
    "    format_city = city.replace(\" \", \"\").upper() \n",
    "    return format_city\n",
    "\n",
    "get_location_ipinfo(\"161.149.146.201\")"
   ]
  },
  {
   "cell_type": "code",
   "execution_count": null,
   "metadata": {},
   "outputs": [
    {
     "name": "stderr",
     "output_type": "stream",
     "text": [
      "c:\\Users\\Admin\\Anaconda3\\lib\\site-packages\\IPython\\core\\interactiveshell.py:3296: DtypeWarning: Columns (0,1) have mixed types.Specify dtype option on import or set low_memory=False.\n",
      "  exec(code_obj, self.user_global_ns, self.user_ns)\n"
     ]
    },
    {
     "name": "stdout",
     "output_type": "stream",
     "text": [
      "N.O. UNIQUE PROBES IS: 2136\n"
     ]
    }
   ],
   "source": [
    "# name_mapping = {\n",
    "#     \"CA-Ontario-1\" : \"Ontario\", \n",
    "#     \"CA-Quebec-1\" : \"Quebec\",\n",
    "#     \"US-California-1\" : \"California\",\n",
    "#     \"US-Virginia-1\" : \"Virginia\", \n",
    "#     \"US-West Virginia-1\" : \"West-Virginia\",\n",
    "#     \"US-Iowa-1\" : \"Iowa\",\n",
    "#     \"US-Washington-1\" : \"Washington\",\n",
    "#     \"US-Arizona-1\" : \"Arizona\",\n",
    "#     \"Illinois\" : \"US-Illinois-1\",\n",
    "#     \"US-Texas-1\" : \"Texas\"\n",
    "# } \n",
    "\n",
    "\n",
    "name_mapping = {\n",
    "    \"Ontario\" : \"CA-Ontario-1\", \n",
    "    \"Quebec\" : \"CA-Quebec-1\",\n",
    "    \"California\" : \"US-California-1\",\n",
    "    \"Virginia\" : \"US-Virginia-1\", \n",
    "    \"West-Virginia\" : \"US-West Virginia-1\",\n",
    "    \"Iowa\" : \"US-Iowa-1\",\n",
    "    \"Washington\" : \"US-Washington-1\",\n",
    "    \"Arizona\" : \"US-Arizona-1\",\n",
    "    \"US-Illinois-1\" : \"Illinois\",\n",
    "    \"Texas\" : \"US-Texas-1\"\n",
    "} \n",
    "\n",
    "name_set = {\n",
    "    \"CA-Ontario-1\",\n",
    "    \"CA-Quebec-1\",\n",
    "    \"US-California-1\",\n",
    "    \"US-Virginia-1\",\n",
    "    \"US-West Virginia-1\",\n",
    "    \"US-Iowa-1\",\n",
    "    \"US-Washington-1\",\n",
    "    \"US-Arizona-1\",\n",
    "    \"Illinois\",\n",
    "    \"US-Texas-1\"}\n",
    "\n",
    "\n",
    "\n",
    "\n",
    "df = pd.read_csv(r\"C:\\Users\\Admin\\Documents\\GitHub\\umass\\api\\akamai\\ECORGeoLoad_1375315200_data.dat\"\n",
    ",usecols= [\"#query_time\", \"ecor\", \"georegion\", \"service\", \"contenttype\", \"sum_hits\", \"sum_connections\", \"sum_bytes\", \"sum_flit\"])\n",
    "df = df.drop(0)\n",
    "\n",
    "dfs = [df[df[\"georegion\"].isin(name_set)] for region in name_set]\n",
    "\n",
    "distinct_no_probes = df['ecor'].nunique()\n",
    "print(\"N.O. UNIQUE PROBES IS: \" + str(distinct_no_probes))\n",
    "\n",
    "\n",
    "\n",
    "#distinct_no_probes_after_drop = dfs['ecor'].nunique()\n",
    "#print(distinct_no_probes2)\n",
    "\n",
    "#pd.read_table(r\"C:\\Users\\Admin\\Documents\\GitHub\\umass\\api\\akamai\\ECORGeoLoad_1375315200_data.dat\", usecols= \n",
    "   # [\"query_time\", \"ecor\", \"georegion\", \"service\", \"contenttype\", \"sum_hits\", \"sum_connections\", \"sum_bytes\", \"sum_flit\"])"
   ]
  },
  {
   "cell_type": "code",
   "execution_count": null,
   "metadata": {},
   "outputs": [
    {
     "name": "stdout",
     "output_type": "stream",
     "text": [
      "Index(['Alabama', 'Arkansas', 'Arizona', 'California', 'Colorado',\n",
      "       'Connecticut', 'District of Columbia', 'Delaware', 'Florida', 'Georgia',\n",
      "       'Hawaii', 'Iowa', 'Idaho', 'Illinois', 'Indiana', 'Kansas', 'Kentucky',\n",
      "       'Louisiana', 'Massachusetts', 'Maryland', 'Maine', 'Michigan',\n",
      "       'Minnesota', 'Missouri', 'Mississippi', 'Montana', 'North Carolina',\n",
      "       'North Dakota', 'Nebraska', 'New Hampshire', 'New Jersey', 'New Mexico',\n",
      "       'Nevada', 'New York', 'Ohio', 'Oklahoma', 'Oregon', 'Pennsylvania',\n",
      "       'Rhode Island', 'South Carolina', 'South Dakota', 'Tennessee', 'Texas',\n",
      "       'Utah', 'Virginia', 'Vermont', 'Washington', 'Wisconsin',\n",
      "       'West Virginia', 'Wyoming'],\n",
      "      dtype='object')\n"
     ]
    }
   ],
   "source": [
    "\n",
    "# Matrix should be of format \n",
    "#_____________________________________________\n",
    "#|  States   | Arizona | ....   | Washington  | \n",
    "#| _____________________________|_____________|\n",
    "#| Arizona   | 5.3     | ....   |   4.7       |\n",
    "#| ....      | 4.4     | ....   |   2.2       |\n",
    "#| Washington| 1.3     | ....   |   1.8       |\n",
    "#|______________________________|_____________|\n",
    "\n",
    "\n",
    "#CHECK FOR TRANSIVITE CLOSURE \n",
    "\n",
    "#USE DIJKSTRAS TO FIND THE MINIMAL TRANSITIVE LATENCY FOR EVERY CELL\n",
    "states = [\n",
    "    'Alabama',\n",
    "    'Arkansas',\n",
    "    'Arizona',\n",
    "    'California',\n",
    "    'Colorado',\n",
    "    'Connecticut',\n",
    "    'District of Columbia',\n",
    "    'Delaware',\n",
    "    'Florida',\n",
    "    'Georgia',\n",
    "    'Hawaii',\n",
    "    'Iowa',\n",
    "    'Idaho',\n",
    "    'Illinois',\n",
    "    'Indiana',\n",
    "    'Kansas',\n",
    "    'Kentucky',\n",
    "    'Louisiana',\n",
    "    'Massachusetts',\n",
    "    'Maryland',\n",
    "    'Maine',\n",
    "    'Michigan',\n",
    "    'Minnesota',\n",
    "    'Missouri',\n",
    "    'Mississippi',\n",
    "    'Montana',\n",
    "    'North Carolina',\n",
    "    'North Dakota',\n",
    "    'Nebraska',\n",
    "    'New Hampshire',\n",
    "    'New Jersey',\n",
    "    'New Mexico',\n",
    "    'Nevada',\n",
    "    'New York',\n",
    "    'Ohio',\n",
    "    'Oklahoma',\n",
    "    'Oregon',\n",
    "    'Pennsylvania',\n",
    "    'Rhode Island',\n",
    "    'South Carolina',\n",
    "    'South Dakota',\n",
    "    'Tennessee',\n",
    "    'Texas',\n",
    "    'Utah',\n",
    "    'Virginia',\n",
    "    'Vermont',\n",
    "    'Washington',\n",
    "    'Wisconsin',\n",
    "    'West Virginia',\n",
    "    'Wyoming' \n",
    "]\n",
    "def ecor_to_ip(df_akamai=None, df_edgelat=None):\n",
    "    return pd.DataFrame(columns = states, index=states)\n",
    "\n",
    "print(ecor_to_ip().index)"
   ]
  },
  {
   "cell_type": "code",
   "execution_count": null,
   "metadata": {},
   "outputs": [],
   "source": [
    "edge_latencies = pd.read_csv(r\"C:\\Users\\Admin\\Documents\\GitHub\\umass\\api\\latencies\\edge_processed2.csv\")"
   ]
  },
  {
   "cell_type": "code",
   "execution_count": null,
   "metadata": {},
   "outputs": [],
   "source": [
    "edge_unique_ecors = edge_latencies[\"prb\"].unique()\n",
    "print(edge_unique_ecors)"
   ]
  },
  {
   "cell_type": "code",
   "execution_count": 4,
   "metadata": {},
   "outputs": [
    {
     "name": "stdout",
     "output_type": "stream",
     "text": [
      "[-74.4605, 40.8205]\n"
     ]
    }
   ],
   "source": [
    "import requests\n",
    "import json\n",
    "#response = requests.get(\"https://atlas.ripe.net/api/v2/probes/?format=json%22\")\n",
    "#response = requests.get(\"https://atlas.ripe.net/api/v2/probes/{1004557}/\")\n",
    "response = requests.get(\"https://atlas.ripe.net/api/v2/probes/1004557/?format=json\")\n",
    "resp_json = json.loads(response.content.decode(\"utf-8\"))\n",
    "print(resp_json[\"geometry\"][\"coordinates\"])\n",
    "\n",
    "\n"
   ]
  },
  {
   "cell_type": "code",
   "execution_count": 1,
   "metadata": {},
   "outputs": [
    {
     "name": "stderr",
     "output_type": "stream",
     "text": [
      "c:\\Users\\Admin\\Anaconda3\\lib\\site-packages\\pandas\\compat\\_optional.py:138: UserWarning: Pandas requires version '2.7.0' or newer of 'numexpr' (version '2.6.9' currently installed).\n",
      "  warnings.warn(msg, UserWarning)\n"
     ]
    },
    {
     "name": "stdout",
     "output_type": "stream",
     "text": [
      "hej\n",
      "hej\n",
      "hej\n",
      "apa\n"
     ]
    }
   ],
   "source": [
    "from geopy.geocoders import Nominatim\n",
    "import multiprocessing\n",
    "import pandas as pd\n",
    "import requests\n",
    "import json\n",
    "\n",
    " \n",
    "def prb_location(df_edges):\n",
    "    geolocator = Nominatim(user_agent=\"geoapiExercises\")\n",
    "    df_edges[\"prb_loc\"] = \"\"\n",
    "    for index, row in df_edges.iterrows():\n",
    "        print(\"hej\")\n",
    "        prb_number = row[\"prb\"]\n",
    "        response = requests.get(f\"https://atlas.ripe.net/api/v2/probes/{prb_number}/?format=json\")\n",
    "        resp_json = json.loads(response.content.decode(\"utf-8\"))\n",
    "        long, lat = tuple(resp_json[\"geometry\"][\"coordinates\"])\n",
    "        \n",
    "        location = geolocator.reverse(str(lat) + \",\" + str(long), language = 'en')\n",
    "        country = str((location)).split(\",\")[-1]\n",
    "        if location == \"United States\":\n",
    "            state = str((location)).split(\",\")[-3]\n",
    "            df_edges.loc[index, \"prb_loc\"] = state\n",
    "        else: \n",
    "            df_edges.loc[index, \"prb_loc\"] = country\n",
    "        if index == 2:\n",
    "            return\n",
    "    return df_edges\n",
    "\n",
    "def singelprocess_prb_location():\n",
    "    geolocator = Nominatim(user_agent=\"geoapiExercises\")\n",
    "    df_edges = pd.read_csv(r\"C:\\Users\\Admin\\Documents\\GitHub\\umass\\api\\latencies\\edge.csv\", index_col= False)\n",
    "    df_prbs_np_arr = df_edges[\"prb\"].unique()\n",
    "    df_prbs = pd.DataFrame(df_prbs_np_arr, columns=[\"prb\"])\n",
    "    df_prbs = prb_location(df_prbs)\n",
    "    df_prbs.to_csv(r\"C:\\Users\\Admin\\Documents\\GitHub\\umass\\api\\latencies\\edge_processed_testing2.csv\", index = False)\n",
    "\n",
    "def multiprocess_prb_location():\n",
    "    df_edges = pd.read_csv(r\"C:\\Users\\Admin\\Documents\\GitHub\\umass\\api\\latencies\\edge.csv\", index_col= False)\n",
    "    df_prbs_np_arr = df_edges[\"prb\"].unique()\n",
    "    df_prbs = pd.DataFrame(df_prbs_np_arr, columns=[\"prb\"])\n",
    "    num_processes = multiprocessing.cpu_count()\n",
    "    chunk_size = int(df_prbs.shape[0]/num_processes)\n",
    "    chunks = [df_prbs.iloc[df_prbs.index[i:i + chunk_size]] for i in range(0, df_prbs.shape[0], chunk_size)]\n",
    "    df_prbs = prb_location(df_prbs)\n",
    "\n",
    "    pool = multiprocessing.Pool(processes=num_processes)\n",
    "    print(\"apa\")\n",
    "    result = pool.map(prb_location, chunks)\n",
    "    print(\"apa2\")   \n",
    "\n",
    "    for i in range(len(result)):\n",
    "    # we can reassign the original dataframe based on the index of each chunk\n",
    "        df_prbs.iloc[result[i].index] = result[i]\n",
    "    print(\"apa3\")\n",
    "\n",
    "    df_prbs.to_csv(r\"C:\\Users\\Admin\\Documents\\GitHub\\umass\\api\\latencies\\edge_processed_testing2.csv\", index = False)\n",
    "\n",
    "multiprocess_prb_location()\n",
    "#singelprocess_prb_location()\n"
   ]
  },
  {
   "cell_type": "code",
   "execution_count": null,
   "metadata": {},
   "outputs": [
    {
     "ename": "NameError",
     "evalue": "name 'geolocator' is not defined",
     "output_type": "error",
     "traceback": [
      "\u001b[1;31m---------------------------------------------------------------------------\u001b[0m",
      "\u001b[1;31mNameError\u001b[0m                                 Traceback (most recent call last)",
      "\u001b[1;32m<ipython-input-2-a1e9e8a2b68d>\u001b[0m in \u001b[0;36m<module>\u001b[1;34m\u001b[0m\n\u001b[0;32m      1\u001b[0m \u001b[0mlong\u001b[0m\u001b[1;33m,\u001b[0m \u001b[0mlat\u001b[0m \u001b[1;33m=\u001b[0m \u001b[1;33m-\u001b[0m\u001b[1;36m74.4605\u001b[0m\u001b[1;33m,\u001b[0m \u001b[1;36m40.8205\u001b[0m\u001b[1;33m\u001b[0m\u001b[1;33m\u001b[0m\u001b[0m\n\u001b[1;32m----> 2\u001b[1;33m \u001b[0mlocation\u001b[0m \u001b[1;33m=\u001b[0m \u001b[0mgeolocator\u001b[0m\u001b[1;33m.\u001b[0m\u001b[0mreverse\u001b[0m\u001b[1;33m(\u001b[0m\u001b[0mstr\u001b[0m\u001b[1;33m(\u001b[0m\u001b[0mlat\u001b[0m\u001b[1;33m)\u001b[0m \u001b[1;33m+\u001b[0m \u001b[1;34m\",\"\u001b[0m \u001b[1;33m+\u001b[0m \u001b[0mstr\u001b[0m\u001b[1;33m(\u001b[0m\u001b[0mlong\u001b[0m\u001b[1;33m)\u001b[0m\u001b[1;33m,\u001b[0m \u001b[0mlanguage\u001b[0m \u001b[1;33m=\u001b[0m \u001b[1;34m'en'\u001b[0m\u001b[1;33m)\u001b[0m\u001b[1;33m\u001b[0m\u001b[1;33m\u001b[0m\u001b[0m\n\u001b[0m\u001b[0;32m      3\u001b[0m \u001b[0mprint\u001b[0m\u001b[1;33m(\u001b[0m\u001b[0mlocation\u001b[0m\u001b[1;33m)\u001b[0m\u001b[1;33m\u001b[0m\u001b[1;33m\u001b[0m\u001b[0m\n",
      "\u001b[1;31mNameError\u001b[0m: name 'geolocator' is not defined"
     ]
    }
   ],
   "source": [
    "# long, lat = -74.4605, 40.8205\n",
    "# location = geolocator.reverse(str(lat) + \",\" + str(long), language = 'en')\n",
    "# print(location)\n"
   ]
  }
 ],
 "metadata": {
  "kernelspec": {
   "display_name": "Python 3.7.3 ('base')",
   "language": "python",
   "name": "python3"
  },
  "language_info": {
   "codemirror_mode": {
    "name": "ipython",
    "version": 3
   },
   "file_extension": ".py",
   "mimetype": "text/x-python",
   "name": "python",
   "nbconvert_exporter": "python",
   "pygments_lexer": "ipython3",
   "version": "3.7.3"
  },
  "orig_nbformat": 4,
  "vscode": {
   "interpreter": {
    "hash": "fe6f22945cfc871c9399bf7d9f19a00d7d184a1ba9bcdcec8f1d4899546bde82"
   }
  }
 },
 "nbformat": 4,
 "nbformat_minor": 2
}
