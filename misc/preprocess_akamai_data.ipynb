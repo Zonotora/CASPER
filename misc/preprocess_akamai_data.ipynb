{
 "cells": [
  {
   "cell_type": "code",
   "execution_count": null,
   "metadata": {},
   "outputs": [
    {
     "name": "stderr",
     "output_type": "stream",
     "text": [
      "c:\\Users\\Admin\\Anaconda3\\lib\\site-packages\\pandas\\compat\\_optional.py:138: UserWarning: Pandas requires version '2.7.0' or newer of 'numexpr' (version '2.6.9' currently installed).\n",
      "  warnings.warn(msg, UserWarning)\n"
     ]
    },
    {
     "data": {
      "text/plain": [
       "'LOSANGELES'"
      ]
     },
     "execution_count": 1,
     "metadata": {},
     "output_type": "execute_result"
    }
   ],
   "source": [
    "import pandas as pd\n",
    "import ipinfo\n",
    "import numpy as np"
   ]
  },
  {
   "cell_type": "code",
   "execution_count": null,
   "metadata": {},
   "outputs": [
    {
     "name": "stderr",
     "output_type": "stream",
     "text": [
      "c:\\Users\\Admin\\Anaconda3\\lib\\site-packages\\IPython\\core\\interactiveshell.py:3296: DtypeWarning: Columns (0,1) have mixed types.Specify dtype option on import or set low_memory=False.\n",
      "  exec(code_obj, self.user_global_ns, self.user_ns)\n"
     ]
    },
    {
     "name": "stdout",
     "output_type": "stream",
     "text": [
      "N.O. UNIQUE PROBES IS: 2136\n"
     ]
    }
   ],
   "source": [
    "name_mapping = {\n",
    "    \"Ontario\" : \"CA-Ontario-1\", \n",
    "    \"Quebec\" : \"CA-Quebec-1\",\n",
    "    \"California\" : \"US-California-1\",\n",
    "    \"Virginia\" : \"US-Virginia-1\", \n",
    "    \"West-Virginia\" : \"US-West Virginia-1\",\n",
    "    \"Iowa\" : \"US-Iowa-1\",\n",
    "    \"Washington\" : \"US-Washington-1\",\n",
    "    \"Arizona\" : \"US-Arizona-1\",\n",
    "    \"US-Illinois-1\" : \"Illinois\",\n",
    "    \"Texas\" : \"US-Texas-1\"\n",
    "} \n",
    "\n",
    "name_set = {\n",
    "    \"CA-Ontario-1\",\n",
    "    \"CA-Quebec-1\",\n",
    "    \"US-California-1\",\n",
    "    \"US-Virginia-1\",\n",
    "    \"US-West Virginia-1\",\n",
    "    \"US-Iowa-1\",\n",
    "    \"US-Washington-1\",\n",
    "    \"US-Arizona-1\",\n",
    "    \"Illinois\",\n",
    "    \"US-Texas-1\"}"
   ]
  },
  {
   "cell_type": "code",
   "execution_count": null,
   "metadata": {},
   "outputs": [
    {
     "name": "stdout",
     "output_type": "stream",
     "text": [
      "Index(['Alabama', 'Arkansas', 'Arizona', 'California', 'Colorado',\n",
      "       'Connecticut', 'District of Columbia', 'Delaware', 'Florida', 'Georgia',\n",
      "       'Hawaii', 'Iowa', 'Idaho', 'Illinois', 'Indiana', 'Kansas', 'Kentucky',\n",
      "       'Louisiana', 'Massachusetts', 'Maryland', 'Maine', 'Michigan',\n",
      "       'Minnesota', 'Missouri', 'Mississippi', 'Montana', 'North Carolina',\n",
      "       'North Dakota', 'Nebraska', 'New Hampshire', 'New Jersey', 'New Mexico',\n",
      "       'Nevada', 'New York', 'Ohio', 'Oklahoma', 'Oregon', 'Pennsylvania',\n",
      "       'Rhode Island', 'South Carolina', 'South Dakota', 'Tennessee', 'Texas',\n",
      "       'Utah', 'Virginia', 'Vermont', 'Washington', 'Wisconsin',\n",
      "       'West Virginia', 'Wyoming'],\n",
      "      dtype='object')\n"
     ]
    }
   ],
   "source": [
    "\n",
    "# Matrix should be of format \n",
    "#_____________________________________________\n",
    "#|  States   | Arizona | ....   | Washington  | \n",
    "#| _____________________________|_____________|\n",
    "#| Arizona   | 5.3     | ....   |   4.7       |\n",
    "#| ....      | 4.4     | ....   |   2.2       |\n",
    "#| Washington| 1.3     | ....   |   1.8       |\n",
    "#|______________________________|_____________|\n",
    "\n",
    "\n",
    "#CHECK FOR TRANSIVITE CLOSURE \n",
    "\n",
    "#USE DIJKSTRAS TO FIND THE MINIMAL TRANSITIVE LATENCY FOR EVERY CELL\n",
    "states = [\n",
    "    'Alabama',\n",
    "    'Arkansas',\n",
    "    'Arizona',\n",
    "    'California',\n",
    "    'Colorado',\n",
    "    'Connecticut',\n",
    "    'District of Columbia',\n",
    "    'Delaware',\n",
    "    'Florida',\n",
    "    'Georgia',\n",
    "    'Hawaii',\n",
    "    'Iowa',\n",
    "    'Idaho',\n",
    "    'Illinois',\n",
    "    'Indiana',\n",
    "    'Kansas',\n",
    "    'Kentucky',\n",
    "    'Louisiana',\n",
    "    'Massachusetts',\n",
    "    'Maryland',\n",
    "    'Maine',\n",
    "    'Michigan',\n",
    "    'Minnesota',\n",
    "    'Missouri',\n",
    "    'Mississippi',\n",
    "    'Montana',\n",
    "    'North Carolina',\n",
    "    'North Dakota',\n",
    "    'Nebraska',\n",
    "    'New Hampshire',\n",
    "    'New Jersey',\n",
    "    'New Mexico',\n",
    "    'Nevada',\n",
    "    'New York',\n",
    "    'Ohio',\n",
    "    'Oklahoma',\n",
    "    'Oregon',\n",
    "    'Pennsylvania',\n",
    "    'Rhode Island',\n",
    "    'South Carolina',\n",
    "    'South Dakota',\n",
    "    'Tennessee',\n",
    "    'Texas',\n",
    "    'Utah',\n",
    "    'Virginia',\n",
    "    'Vermont',\n",
    "    'Washington',\n",
    "    'Wisconsin',\n",
    "    'West Virginia',\n",
    "    'Wyoming' \n",
    "]\n"
   ]
  },
  {
   "cell_type": "code",
   "execution_count": null,
   "metadata": {},
   "outputs": [],
   "source": []
  }
 ],
 "metadata": {
  "kernelspec": {
   "display_name": "Python 3.7.3 ('base')",
   "language": "python",
   "name": "python3"
  },
  "language_info": {
   "codemirror_mode": {
    "name": "ipython",
    "version": 3
   },
   "file_extension": ".py",
   "mimetype": "text/x-python",
   "name": "python",
   "nbconvert_exporter": "python",
   "pygments_lexer": "ipython3",
   "version": "3.7.3"
  },
  "orig_nbformat": 4,
  "vscode": {
   "interpreter": {
    "hash": "fe6f22945cfc871c9399bf7d9f19a00d7d184a1ba9bcdcec8f1d4899546bde82"
   }
  }
 },
 "nbformat": 4,
 "nbformat_minor": 2
}
