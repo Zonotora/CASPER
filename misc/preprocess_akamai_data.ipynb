{
 "cells": [
  {
   "cell_type": "code",
   "execution_count": 47,
   "metadata": {},
   "outputs": [],
   "source": [
    "import pandas as pd\n",
    "import ipinfo\n",
    "import numpy as np"
   ]
  },
  {
   "cell_type": "code",
   "execution_count": 48,
   "metadata": {},
   "outputs": [],
   "source": [
    "name_mapping = {\n",
    "    \"Ontario\" : \"CA-Ontario-1\", \n",
    "    \"Quebec\" : \"CA-Quebec-1\",\n",
    "    \"California\" : \"US-California-1\",\n",
    "    \"Virginia\" : \"US-Virginia-1\", \n",
    "    \"West-Virginia\" : \"US-West Virginia-1\",\n",
    "    \"Iowa\" : \"US-Iowa-1\",\n",
    "    \"Washington\" : \"US-Washington-1\",\n",
    "    \"Arizona\" : \"US-Arizona-1\",\n",
    "    \"US-Illinois-1\" : \"Illinois\",\n",
    "    \"Texas\" : \"US-Texas-1\"\n",
    "} \n",
    "\n",
    "name_set = {\n",
    "    \"CA-Ontario-1\",\n",
    "    \"CA-Quebec-1\",\n",
    "    \"US-California-1\",\n",
    "    \"US-Virginia-1\",\n",
    "    \"US-West Virginia-1\",\n",
    "    \"US-Iowa-1\",\n",
    "    \"US-Washington-1\",\n",
    "    \"US-Arizona-1\",\n",
    "    \"Illinois\",\n",
    "    \"US-Texas-1\"}\n",
    "\n",
    "\n",
    "# Matrix should be of format \n",
    "#_____________________________________________\n",
    "#|  States   | Arizona | ....   | Washington  | \n",
    "#| _____________________________|_____________|\n",
    "#| Arizona   | 5.3     | ....   |   4.7       |\n",
    "#| ....      | 4.4     | ....   |   2.2       |\n",
    "#| Washington| 1.3     | ....   |   1.8       |\n",
    "#|______________________________|_____________|\n",
    "\n",
    "\n",
    "#CHECK FOR TRANSIVITE CLOSURE \n",
    "\n",
    "#USE DIJKSTRAS TO FIND THE MINIMAL TRANSITIVE LATENCY FOR EVERY CELL\n",
    "states = [\n",
    "    'Alabama',\n",
    "    'Arkansas',\n",
    "    'Arizona',\n",
    "    'California',\n",
    "    'Colorado',\n",
    "    'Connecticut',\n",
    "    'District of Columbia',\n",
    "    'Delaware',\n",
    "    'Florida',\n",
    "    'Georgia',\n",
    "    'Hawaii',\n",
    "    'Iowa',\n",
    "    'Idaho',\n",
    "    'Illinois',\n",
    "    'Indiana',\n",
    "    'Kansas',\n",
    "    'Kentucky',\n",
    "    'Louisiana',\n",
    "    'Massachusetts',\n",
    "    'Maryland',\n",
    "    'Maine',\n",
    "    'Michigan',\n",
    "    'Minnesota',\n",
    "    'Missouri',\n",
    "    'Mississippi',\n",
    "    'Montana',\n",
    "    'North Carolina',\n",
    "    'North Dakota',\n",
    "    'Nebraska',\n",
    "    'New Hampshire',\n",
    "    'New Jersey',\n",
    "    'New Mexico',\n",
    "    'Nevada',\n",
    "    'New York',\n",
    "    'Ohio',\n",
    "    'Oklahoma',\n",
    "    'Oregon',\n",
    "    'Pennsylvania',\n",
    "    'Rhode Island',\n",
    "    'South Carolina',\n",
    "    'South Dakota',\n",
    "    'Tennessee',\n",
    "    'Texas',\n",
    "    'Utah',\n",
    "    'Virginia',\n",
    "    'Vermont',\n",
    "    'Washington',\n",
    "    'Wisconsin',\n",
    "    'West Virginia',\n",
    "    'Wyoming' \n",
    "]\n",
    "\n",
    "#CHECK FOR TRANSIVITE CLOSURE \n",
    "\n",
    "#USE DIJKSTRAS TO FIND THE MINIMAL TRANSITIVE LATENCY FOR EVERY CELL\n"
   ]
  },
  {
   "cell_type": "code",
   "execution_count": 67,
   "metadata": {},
   "outputs": [
    {
     "data": {
      "text/plain": [
       "<function __main__.get_akamai_interregions(continent='North America', path='api\\\\akamai\\\\1375315200_data.dat.clean')>"
      ]
     },
     "execution_count": 67,
     "metadata": {},
     "output_type": "execute_result"
    }
   ],
   "source": [
    "def get_akamai_interregions(continent = \"North America\", path =  r\"api\\akamai\\1375315200_data.dat.clean\"):\n",
    "    df = pd.read_csv(path, index_col= False)\n",
    "    print(df)\n",
    "    \n",
    "get_akamai_interregions"
   ]
  }
 ],
 "metadata": {
  "kernelspec": {
   "display_name": "Python 3.7.3 ('base')",
   "language": "python",
   "name": "python3"
  },
  "language_info": {
   "codemirror_mode": {
    "name": "ipython",
    "version": 3
   },
   "file_extension": ".py",
   "mimetype": "text/x-python",
   "name": "python",
   "nbconvert_exporter": "python",
   "pygments_lexer": "ipython3",
   "version": "3.7.3"
  },
  "orig_nbformat": 4,
  "vscode": {
   "interpreter": {
    "hash": "fe6f22945cfc871c9399bf7d9f19a00d7d184a1ba9bcdcec8f1d4899546bde82"
   }
  }
 },
 "nbformat": 4,
 "nbformat_minor": 2
}
