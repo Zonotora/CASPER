{
 "cells": [
  {
   "cell_type": "code",
   "execution_count": 45,
   "metadata": {},
   "outputs": [],
   "source": [
    "import pandas as pd\n",
    "import numpy as np\n",
    "\n",
    "np.random.seed(1234)"
   ]
  },
  {
   "cell_type": "code",
   "execution_count": 46,
   "metadata": {},
   "outputs": [],
   "source": [
    "def load(name):\n",
    "    data = {\"A\":pd.read_csv(\"../electricity_map/US-CAL-CISO.csv\"), \n",
    "            \"B\":pd.read_csv(\"../electricity_map/US-MIDA-PJM.csv\"), \n",
    "            \"C\":pd.read_csv(\"../electricity_map/US-MIDW-MISO.csv\"), \n",
    "            \"D\":pd.read_csv(\"../electricity_map/US-TEX-ERCO.csv\")}\n",
    "    data = {key:data[key][name] for key in data}\n",
    "    df = pd.DataFrame(data=data)\n",
    "    return df\n",
    "\n",
    "def extract(name):\n",
    "    df = load(name)\n",
    "    df.to_csv(f\"../data/{name}.csv\", index=False)\n",
    "\n",
    "def extract_with_noise(name):\n",
    "    df = load(name)\n",
    "    df = noise(df)\n",
    "    df.to_csv(f\"../data/{name}.csv\", index=False)\n",
    "\n",
    "def noise(df):\n",
    "    df = df.copy()\n",
    "    for col in df.columns:\n",
    "        sigma = df[col].std()\n",
    "        n = np.random.normal(0, sigma, len(df)) \n",
    "        df[col] += n\n",
    "    return df"
   ]
  },
  {
   "cell_type": "code",
   "execution_count": 47,
   "metadata": {},
   "outputs": [],
   "source": [
    "extract_with_noise(\"carbon_intensity_avg\")"
   ]
  }
 ],
 "metadata": {
  "kernelspec": {
   "display_name": "Python 3.8.0 64-bit",
   "language": "python",
   "name": "python3"
  },
  "language_info": {
   "codemirror_mode": {
    "name": "ipython",
    "version": 3
   },
   "file_extension": ".py",
   "mimetype": "text/x-python",
   "name": "python",
   "nbconvert_exporter": "python",
   "pygments_lexer": "ipython3",
   "version": "3.8.0"
  },
  "orig_nbformat": 4,
  "vscode": {
   "interpreter": {
    "hash": "df0893f56f349688326838aaeea0de204df53a132722cbd565e54b24a8fec5f6"
   }
  }
 },
 "nbformat": 4,
 "nbformat_minor": 2
}
