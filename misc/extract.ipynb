{
 "cells": [
  {
   "cell_type": "code",
   "execution_count": 2,
   "metadata": {},
   "outputs": [],
   "source": [
    "import pandas as pd"
   ]
  },
  {
   "cell_type": "code",
   "execution_count": 8,
   "metadata": {},
   "outputs": [],
   "source": [
    "def extract(name, start, end):\n",
    "    data = {\"CAL\":pd.read_csv(\"../electricity_map/US-CAL-CISO.csv\"), \n",
    "            \"MIDA\":pd.read_csv(\"../electricity_map/US-MIDA-PJM.csv\"), \n",
    "            \"MIDW\":pd.read_csv(\"../electricity_map/US-MIDW-MISO.csv\"), \n",
    "            \"TEX\":pd.read_csv(\"../electricity_map/US-TEX-ERCO.csv\")}\n",
    "    data = {key:data[key][name][start:end] for key in data}\n",
    "    df = pd.DataFrame(data=data)\n",
    "    df.to_csv(f\"../data/{name}_{start}_{end}.csv\", index=False)"
   ]
  },
  {
   "cell_type": "code",
   "execution_count": null,
   "metadata": {},
   "outputs": [],
   "source": [
    "extract(\"carbon_intensity_avg\", 0, 24)"
   ]
  }
 ],
 "metadata": {
  "kernelspec": {
   "display_name": "Python 3.8.0 64-bit",
   "language": "python",
   "name": "python3"
  },
  "language_info": {
   "codemirror_mode": {
    "name": "ipython",
    "version": 3
   },
   "file_extension": ".py",
   "mimetype": "text/x-python",
   "name": "python",
   "nbconvert_exporter": "python",
   "pygments_lexer": "ipython3",
   "version": "3.8.0"
  },
  "orig_nbformat": 4,
  "vscode": {
   "interpreter": {
    "hash": "df0893f56f349688326838aaeea0de204df53a132722cbd565e54b24a8fec5f6"
   }
  }
 },
 "nbformat": 4,
 "nbformat_minor": 2
}
