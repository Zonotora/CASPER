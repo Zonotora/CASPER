{
 "cells": [
  {
   "cell_type": "code",
   "execution_count": 7,
   "metadata": {},
   "outputs": [
    {
     "name": "stdout",
     "output_type": "stream",
     "text": [
      "                StateName                                           geometry\n",
      "0                 NUNAVUT  MULTIPOLYGON (((-75.00003 80.25000, -75.00003 ...\n",
      "1   NORTHWEST TERRITORIES  POLYGON ((-110.00276 78.27549, -110.00276 78.2...\n",
      "2         YUKON TERRITORY  MULTIPOLYGON (((-136.96063 68.92291, -136.9587...\n",
      "3        BRITISH COLUMBIA  MULTIPOLYGON (((-126.78609 50.77047, -126.6021...\n",
      "4                  QUEBEC  POLYGON ((-64.51748 60.30440, -64.52236 60.301...\n",
      "..                    ...                                                ...\n",
      "71              Wisconsin  MULTIPOLYGON (((-87.49371 45.05642, -87.49452 ...\n",
      "72              Wisconsin  MULTIPOLYGON (((-86.76052 45.44397, -86.49687 ...\n",
      "73          West Virginia  POLYGON ((-80.51900 40.63334, -80.51900 40.628...\n",
      "74                Wyoming  POLYGON ((-109.10343 45.00590, -109.08918 45.0...\n",
      "75    U.S. Virgin Islands  MULTIPOLYGON (((-64.77167 17.78106, -64.76847 ...\n",
      "\n",
      "[76 rows x 2 columns]\n"
     ]
    },
    {
     "data": {
      "text/plain": [
       "<matplotlib.axes._subplots.AxesSubplot at 0x2d04e6812b0>"
      ]
     },
     "execution_count": 7,
     "metadata": {},
     "output_type": "execute_result"
    },
    {
     "data": {
      "image/png": "[encoded data removed]",
      "text/plain": [
       "<Figure size 432x288 with 1 Axes>"
      ]
     },
     "metadata": {
      "needs_background": "light"
     },
     "output_type": "display_data"
    }
   ],
   "source": [
    "import geopandas as gp\n",
    "import matplotlib.pyplot as plt\n",
    "\n",
    "boros = gp.read_file(r'C:\\Users\\Admin\\Documents\\GitHub\\umass\\api\\map\\USA_Canada_ShapefileMerge.shp')\n",
    "boros.plot()\n",
    "\n",
    "\n",
    "# path_to_data = gp.datasets.get_path(\"nybb\")\n",
    "# gdf = gp.read_file(path_to_data)\n",
    "\n",
    "# gdf.plot()"
   ]
  }
 ],
 "metadata": {
  "kernelspec": {
   "display_name": "Python 3.7.3 ('base')",
   "language": "python",
   "name": "python3"
  },
  "language_info": {
   "codemirror_mode": {
    "name": "ipython",
    "version": 3
   },
   "file_extension": ".py",
   "mimetype": "text/x-python",
   "name": "python",
   "nbconvert_exporter": "python",
   "pygments_lexer": "ipython3",
   "version": "3.7.3"
  },
  "orig_nbformat": 4,
  "vscode": {
   "interpreter": {
    "hash": "fe6f22945cfc871c9399bf7d9f19a00d7d184a1ba9bcdcec8f1d4899546bde82"
   }
  }
 },
 "nbformat": 4,
 "nbformat_minor": 2
}
