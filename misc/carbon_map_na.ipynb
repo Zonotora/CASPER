{
 "cells": [
  {
   "cell_type": "code",
   "execution_count": 51,
   "metadata": {},
   "outputs": [
    {
     "name": "stdout",
     "output_type": "stream",
     "text": [
      "KeyError\n",
      "Int64Index([20], dtype='int64')\n",
      "Int64Index([71, 72], dtype='int64')\n"
     ]
    },
    {
     "data": {
      "text/plain": [
       "<matplotlib.axes._subplots.AxesSubplot at 0x2d05578fa20>"
      ]
     },
     "execution_count": 51,
     "metadata": {},
     "output_type": "execute_result"
    },
    {
     "data": {
      "image/png": "[encoded data removed]",
      "text/plain": [
       "<Figure size 432x288 with 2 Axes>"
      ]
     },
     "metadata": {
      "needs_background": "light"
     },
     "output_type": "display_data"
    }
   ],
   "source": [
    "import geopandas as gp\n",
    "import matplotlib.pyplot as plt\n",
    "import numpy as np\n",
    "import pandas as pd\n",
    "\n",
    "map = gp.read_file(r'C:\\Users\\Admin\\Documents\\GitHub\\umass\\api\\map\\USA_Canada_ShapefileMerge.shp')\n",
    "\n",
    "regions = [\"DE\", \"FR\", \"GB\"]\n",
    "trans = {\"FR\" : \"California\", \"GB\" : \"Wisconsin\"}\n",
    "power_spent = np.array([1,1,1])\n",
    "carbon_avgs = np.array([2,3,5])\n",
    "\n",
    "carbon_spent = np.multiply(power_spent, carbon_avgs) \n",
    "\n",
    "#map.plot(cmap=)\n",
    "map[\"carbon_emissions\"] = 0\n",
    "#map = map.assign(carbon_emissions=5)\n",
    "\n",
    "df_saved = pd.read_csv(r\"C:\\Users\\Admin\\Documents\\GitHub\\umass\\saved\\2022-08-05_19-31-41_latency_latency_100_max_servers_15_timesteps_48.csv\")\n",
    "\n",
    "for region in regions: \n",
    "    carbon_int = df_saved[f\"{region}_carbon_intensity\"]\n",
    "    requests_at_region = df_saved[f\"{region}_requests_to\"]\n",
    "    emissions = carbon_int.multiply(requests_at_region, axis=0)\n",
    "    try: \n",
    "        region_idx = map.index[map[\"StateName\"] == trans[region]]\n",
    "        print(region_idx)\n",
    "        map.loc[region_idx, \"carbon_emissions\"] = emissions\n",
    "    except: \n",
    "        print(\"KeyError\")\n",
    "\n",
    "\n",
    "fig, ax = plt.subplots(1,1)\n",
    "ax.set_xlim(-180, -50)\n",
    "ax.set_ylim(0, 100)\n",
    "\n",
    "#ax.set_axis_off();\n",
    "\n",
    "map.plot(\n",
    "    column = \"carbon_emissions\", \n",
    "    cmap=\"hot\", ax = ax, \n",
    "    legend=True,\n",
    "    legend_kwds={'label': \"Carbon emissions per region\", 'orientation': \"horizontal\"})\n",
    "\n",
    "# https://geopandas.org/en/stable/docs/user_guide/mapping.html\n",
    "\n",
    "## VORE BRA OM ELECTRICITY MAP VAR PÅ SAMMA FORMAT SOM REQUESTS\n",
    "\n",
    "## FYLLA HÅL I LATENCY \n",
    "\n",
    "# gdf.plot()"
   ]
  }
 ],
 "metadata": {
  "kernelspec": {
   "display_name": "Python 3.7.3 ('base')",
   "language": "python",
   "name": "python3"
  },
  "language_info": {
   "codemirror_mode": {
    "name": "ipython",
    "version": 3
   },
   "file_extension": ".py",
   "mimetype": "text/x-python",
   "name": "python",
   "nbconvert_exporter": "python",
   "pygments_lexer": "ipython3",
   "version": "3.7.3"
  },
  "orig_nbformat": 4,
  "vscode": {
   "interpreter": {
    "hash": "fe6f22945cfc871c9399bf7d9f19a00d7d184a1ba9bcdcec8f1d4899546bde82"
   }
  }
 },
 "nbformat": 4,
 "nbformat_minor": 2
}
